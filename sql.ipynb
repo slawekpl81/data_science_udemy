{
  "nbformat": 4,
  "nbformat_minor": 0,
  "metadata": {
    "colab": {
      "name": "sql.ipynb",
      "provenance": [],
      "collapsed_sections": [],
      "authorship_tag": "ABX9TyPb7ltpVLPRSgOYmBaFtykM",
      "include_colab_link": true
    },
    "kernelspec": {
      "name": "python3",
      "display_name": "Python 3"
    }
  },
  "cells": [
    {
      "cell_type": "markdown",
      "metadata": {
        "id": "view-in-github",
        "colab_type": "text"
      },
      "source": [
        "<a href=\"https://colab.research.google.com/github/slawekpl81/data_science_udemy/blob/master/sql.ipynb\" target=\"_parent\"><img src=\"https://colab.research.google.com/assets/colab-badge.svg\" alt=\"Open In Colab\"/></a>"
      ]
    },
    {
      "cell_type": "code",
      "metadata": {
        "id": "ktG4YsIHzw5d"
      },
      "source": [
        "import pandas as pd\n",
        "import numpy as np"
      ],
      "execution_count": 1,
      "outputs": []
    },
    {
      "cell_type": "code",
      "metadata": {
        "id": "30UaSnw50Bq5"
      },
      "source": [
        "url = ('https://storage.googleapis.com/esmartdata-courses-files/ds-bootcamp/online_retail.xlsx')\n",
        "retail_raw = pd.read_excel(url)\n",
        "retail_raw.head()"
      ],
      "execution_count": null,
      "outputs": []
    },
    {
      "cell_type": "code",
      "metadata": {
        "id": "UbA4ALDl0jfu"
      },
      "source": [
        "retail = retail_raw.copy()\n",
        "retail.info()"
      ],
      "execution_count": null,
      "outputs": []
    },
    {
      "cell_type": "code",
      "metadata": {
        "id": "YExH38Ti5EbW"
      },
      "source": [
        "retail.isnull().sum()"
      ],
      "execution_count": null,
      "outputs": []
    },
    {
      "cell_type": "code",
      "metadata": {
        "id": "LEDwhCKS5R8l"
      },
      "source": [
        "retail = retail.dropna()"
      ],
      "execution_count": 5,
      "outputs": []
    },
    {
      "cell_type": "code",
      "metadata": {
        "id": "cOjXLBYO5Y8X"
      },
      "source": [
        "retail = retail[retail.Quantity >= 0]\n",
        "retail.info()"
      ],
      "execution_count": null,
      "outputs": []
    },
    {
      "cell_type": "code",
      "metadata": {
        "id": "ifWlFFLD6c7a"
      },
      "source": [
        "retail.CustomerID = retail.CustomerID.apply(lambda x: str(int(x)))\n",
        "retail.info()"
      ],
      "execution_count": null,
      "outputs": []
    },
    {
      "cell_type": "code",
      "metadata": {
        "id": "GFhhI712_nU6"
      },
      "source": [
        "retail.info()"
      ],
      "execution_count": null,
      "outputs": []
    },
    {
      "cell_type": "code",
      "metadata": {
        "id": "hAIDabSN7dx2"
      },
      "source": [
        "# SELECT * FROM retail;\n",
        "retail"
      ],
      "execution_count": null,
      "outputs": []
    },
    {
      "cell_type": "code",
      "metadata": {
        "id": "3aePFBcN7qSf"
      },
      "source": [
        "# SELECT Quantity, UnitPrice, CustomerID FROM retail;\n",
        "retail[['Quantity', 'UnitPrice', 'CustomerID']]"
      ],
      "execution_count": null,
      "outputs": []
    },
    {
      "cell_type": "code",
      "metadata": {
        "id": "hozWDLZ78WaG"
      },
      "source": [
        "# SELECT Quantity, UnitPrice, CustomerID FROM retail LIMIT 10;\n",
        "retail[['Quantity', 'UnitPrice', 'CustomerID']][:10]"
      ],
      "execution_count": null,
      "outputs": []
    },
    {
      "cell_type": "code",
      "metadata": {
        "id": "mjGgicjr8a11"
      },
      "source": [
        "# SELECT * FROM retail WHERE CustomerID='17850';\n",
        "retail[retail['CustomerID'] == '17850']"
      ],
      "execution_count": null,
      "outputs": []
    },
    {
      "cell_type": "code",
      "metadata": {
        "id": "GVITOuXf-U0c"
      },
      "source": [
        "retail.query('CustomerID==\"17850\"')"
      ],
      "execution_count": null,
      "outputs": []
    },
    {
      "cell_type": "code",
      "metadata": {
        "id": "-_L8GM4u-uO3"
      },
      "source": [
        "# SELECT * FROM retail WHERE CustomerID='17850' AND UnitPrice > 5;\n",
        "retail[(retail['CustomerID']=='17850') & (retail['UnitPrice']>5)]"
      ],
      "execution_count": null,
      "outputs": []
    },
    {
      "cell_type": "code",
      "metadata": {
        "id": "hJWDPLbhAVKd"
      },
      "source": [
        "# SELECT * FROM retail WHERE CustomerID='17850' OR Country='France';\n",
        "retail[(retail['CustomerID']=='17850') | (retail.Country=='France')]"
      ],
      "execution_count": null,
      "outputs": []
    },
    {
      "cell_type": "code",
      "metadata": {
        "id": "v6HO0YEDBWlH"
      },
      "source": [
        "# SELECT * FROM retail WHERE InvoiceNo is not null;\n",
        "retail[retail.InvoiceNo.notnull()]"
      ],
      "execution_count": null,
      "outputs": []
    },
    {
      "cell_type": "code",
      "metadata": {
        "id": "4lT5VuqSB7DI"
      },
      "source": [
        "# SELECT CustomerId, count(*) FROM retail GROUP BY CustomerId;\n",
        "#retail.CustomerID.value_counts()\n",
        "retail.groupby('CustomerID').size()"
      ],
      "execution_count": null,
      "outputs": []
    },
    {
      "cell_type": "code",
      "metadata": {
        "id": "2yLEEE91DZoM"
      },
      "source": [
        "# SELECT CustomerID, avg(Revenue), count(*) FROM retail GROUP BY CustomerID;\n",
        "retail['Revenue'] = retail.UnitPrice * retail.Quantity\n",
        "retail.head()"
      ],
      "execution_count": null,
      "outputs": []
    },
    {
      "cell_type": "code",
      "metadata": {
        "id": "GSrL1_vGH2wv"
      },
      "source": [
        "retail.groupby('CustomerID').aggregate({'Revenue':np.mean, 'CustomerID':np.size})"
      ],
      "execution_count": null,
      "outputs": []
    },
    {
      "cell_type": "code",
      "metadata": {
        "id": "mPdMXxJeJitB"
      },
      "source": [
        "retail.groupby('CustomerID').aggregate({'Revenue':np.mean, 'CustomerID':np.size}).\\\n",
        "  rename(columns={'Revenue': 'RevenueAverage', 'CustomerID': 'NumberPositions'})"
      ],
      "execution_count": null,
      "outputs": []
    },
    {
      "cell_type": "code",
      "metadata": {
        "id": "oO6d75yMKHuL"
      },
      "source": [
        "# SELECT InvoiceDateDay, sum(Revenue) FROM retail GROUP BY InvoiceDateDay;\n",
        "retail['InvoiceDateDay'] = retail.InvoiceDate.dt.day"
      ],
      "execution_count": 66,
      "outputs": []
    },
    {
      "cell_type": "code",
      "metadata": {
        "id": "RuW0b1q6Kt9t"
      },
      "source": [
        "retail.groupby('InvoiceDateDay').aggregate({'Revenue': np.sum})"
      ],
      "execution_count": null,
      "outputs": []
    },
    {
      "cell_type": "code",
      "metadata": {
        "id": "9f0xLhWkLa54"
      },
      "source": [
        "# by day name\n",
        "retail['DayName'] = retail.InvoiceDate.dt.day_name()\n",
        "retail.head()"
      ],
      "execution_count": null,
      "outputs": []
    },
    {
      "cell_type": "code",
      "metadata": {
        "id": "RcZyxiGMMR0x"
      },
      "source": [
        "retail.groupby('DayName').aggregate({'Revenue': np.sum}).plot(kind='bar')"
      ],
      "execution_count": null,
      "outputs": []
    },
    {
      "cell_type": "code",
      "metadata": {
        "id": "QEBD2AChN1cS"
      },
      "source": [
        "# SELECT * FROM retail ORDER BY Quantity DESC LIMIT 5;\n",
        "# retail.sort_values(by='Quantity', ascending=False)[:5]\n",
        "retail.nlargest(n=5, columns='Quantity')"
      ],
      "execution_count": null,
      "outputs": []
    },
    {
      "cell_type": "code",
      "metadata": {
        "id": "QK9lB2w0N-NN"
      },
      "source": [
        "# SELECT  * FROM retail ORDER BY Quantity LIMIT 5;\n",
        "# retail.sort_values(by='Quantity')[:5]\n",
        "retail.nsmallest(n=5, columns='Quantity')"
      ],
      "execution_count": null,
      "outputs": []
    }
  ]
}