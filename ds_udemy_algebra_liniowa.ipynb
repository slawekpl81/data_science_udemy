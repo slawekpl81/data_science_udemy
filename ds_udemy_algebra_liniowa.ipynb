{
  "nbformat": 4,
  "nbformat_minor": 0,
  "metadata": {
    "colab": {
      "name": "ds_udemy_algebra_liniowa.ipynb",
      "provenance": [],
      "collapsed_sections": [],
      "mount_file_id": "1Xt18ZvUrGKKPhtBygIrwX_HB5npY1Lio",
      "authorship_tag": "ABX9TyM0EyLmB1Ah9F8uunf33kva",
      "include_colab_link": true
    },
    "kernelspec": {
      "name": "python3",
      "display_name": "Python 3"
    }
  },
  "cells": [
    {
      "cell_type": "markdown",
      "metadata": {
        "id": "view-in-github",
        "colab_type": "text"
      },
      "source": [
        "<a href=\"https://colab.research.google.com/github/slawekpl81/data_science_udemy/blob/master/ds_udemy_algebra_liniowa.ipynb\" target=\"_parent\"><img src=\"https://colab.research.google.com/assets/colab-badge.svg\" alt=\"Open In Colab\"/></a>"
      ]
    },
    {
      "cell_type": "code",
      "metadata": {
        "id": "ghpgHYC-Td59"
      },
      "source": [
        "import numpy as np"
      ],
      "execution_count": 107,
      "outputs": []
    },
    {
      "cell_type": "markdown",
      "metadata": {
        "id": "djA2K8hiUDiF"
      },
      "source": [
        "WEKTORY"
      ]
    },
    {
      "cell_type": "code",
      "metadata": {
        "id": "MrB_gj2mTi1W"
      },
      "source": [
        "v1 = np.array([5,1])"
      ],
      "execution_count": 116,
      "outputs": []
    },
    {
      "cell_type": "code",
      "metadata": {
        "id": "V0uthA3ZUQhJ",
        "outputId": "4026fb9e-4b55-401e-8a0d-bac58df7b55f",
        "colab": {
          "base_uri": "https://localhost:8080/",
          "height": 34
        }
      },
      "source": [
        "#norma wektora \n",
        "np.linalg.norm(v1)"
      ],
      "execution_count": 117,
      "outputs": [
        {
          "output_type": "execute_result",
          "data": {
            "text/plain": [
              "5.0990195135927845"
            ]
          },
          "metadata": {
            "tags": []
          },
          "execution_count": 117
        }
      ]
    },
    {
      "cell_type": "code",
      "metadata": {
        "id": "mOTkN-vJVqC3",
        "outputId": "b1b6127a-00fe-41fa-d98b-961f47985479",
        "colab": {
          "base_uri": "https://localhost:8080/",
          "height": 34
        }
      },
      "source": [
        "# odległość dwóch punktów\n",
        "a=np.array([3,0])\n",
        "b=np.array([0,4])\n",
        "np.linalg.norm(a-b)"
      ],
      "execution_count": 119,
      "outputs": [
        {
          "output_type": "execute_result",
          "data": {
            "text/plain": [
              "5.0"
            ]
          },
          "metadata": {
            "tags": []
          },
          "execution_count": 119
        }
      ]
    },
    {
      "cell_type": "code",
      "metadata": {
        "id": "rYF7D-sEWNqr",
        "outputId": "4427cb5e-20fd-40ae-ec80-778e53dd09da",
        "colab": {
          "base_uri": "https://localhost:8080/",
          "height": 34
        }
      },
      "source": [
        "a=np.array([3,0,1])\n",
        "b=np.array([0,4,2])\n",
        "np.linalg.norm(a-b)"
      ],
      "execution_count": 120,
      "outputs": [
        {
          "output_type": "execute_result",
          "data": {
            "text/plain": [
              "5.0990195135927845"
            ]
          },
          "metadata": {
            "tags": []
          },
          "execution_count": 120
        }
      ]
    },
    {
      "cell_type": "code",
      "metadata": {
        "id": "okcbcYNcWS_j",
        "outputId": "7132a224-a579-4ded-ebe5-774471a9afb9",
        "colab": {
          "base_uri": "https://localhost:8080/",
          "height": 51
        }
      },
      "source": [
        "#mnozenie macierzy\n",
        "x = np.array([[5, 3], [3, 9]])\n",
        "y = np.array([[1], [-1]])\n",
        "z = np.dot(x,y)\n",
        "z"
      ],
      "execution_count": 121,
      "outputs": [
        {
          "output_type": "execute_result",
          "data": {
            "text/plain": [
              "array([[ 2],\n",
              "       [-6]])"
            ]
          },
          "metadata": {
            "tags": []
          },
          "execution_count": 121
        }
      ]
    },
    {
      "cell_type": "code",
      "metadata": {
        "id": "1xSzRkWZXmce",
        "outputId": "6acb5a70-6c7e-4a6b-84ed-6da0c7357a1e",
        "colab": {
          "base_uri": "https://localhost:8080/",
          "height": 51
        }
      },
      "source": [
        "x = np.array([[2, -1, 3],[3, 1, 0]])\n",
        "y = np.array([[2, 1, -1],[0, -1, 2],[3, 2, 0]])\n",
        "z = np.dot(x,y)\n",
        "z"
      ],
      "execution_count": 122,
      "outputs": [
        {
          "output_type": "execute_result",
          "data": {
            "text/plain": [
              "array([[13,  9, -4],\n",
              "       [ 6,  2, -1]])"
            ]
          },
          "metadata": {
            "tags": []
          },
          "execution_count": 122
        }
      ]
    }
  ]
}