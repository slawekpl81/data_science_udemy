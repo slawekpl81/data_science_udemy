{
  "nbformat": 4,
  "nbformat_minor": 0,
  "metadata": {
    "colab": {
      "name": "ds_udemy_algebra_liniowa.ipynb",
      "provenance": [],
      "collapsed_sections": [],
      "mount_file_id": "1Xt18ZvUrGKKPhtBygIrwX_HB5npY1Lio",
      "authorship_tag": "ABX9TyPP1GpiYYMgIhysWPVdRAkJ",
      "include_colab_link": true
    },
    "kernelspec": {
      "name": "python3",
      "display_name": "Python 3"
    }
  },
  "cells": [
    {
      "cell_type": "markdown",
      "metadata": {
        "id": "view-in-github",
        "colab_type": "text"
      },
      "source": [
        "<a href=\"https://colab.research.google.com/github/slawekpl81/data_science_udemy/blob/master/ds_udemy_algebra_liniowa.ipynb\" target=\"_parent\"><img src=\"https://colab.research.google.com/assets/colab-badge.svg\" alt=\"Open In Colab\"/></a>"
      ]
    },
    {
      "cell_type": "code",
      "metadata": {
        "id": "ghpgHYC-Td59"
      },
      "source": [
        "import numpy as np"
      ],
      "execution_count": 2,
      "outputs": []
    },
    {
      "cell_type": "markdown",
      "metadata": {
        "id": "djA2K8hiUDiF"
      },
      "source": [
        "WEKTORY\n",
        "https://github.com/krakowiakpawel9/data-science-bootcamp/blob/master/01_wprowadzenie/02_algebra_liniowa.ipynb"
      ]
    },
    {
      "cell_type": "code",
      "metadata": {
        "id": "MrB_gj2mTi1W"
      },
      "source": [
        "v1 = np.array([5,1])"
      ],
      "execution_count": null,
      "outputs": []
    },
    {
      "cell_type": "code",
      "metadata": {
        "id": "V0uthA3ZUQhJ",
        "outputId": "4026fb9e-4b55-401e-8a0d-bac58df7b55f",
        "colab": {
          "base_uri": "https://localhost:8080/",
          "height": 34
        }
      },
      "source": [
        "#norma wektora \n",
        "np.linalg.norm(v1)"
      ],
      "execution_count": null,
      "outputs": [
        {
          "output_type": "execute_result",
          "data": {
            "text/plain": [
              "5.0990195135927845"
            ]
          },
          "metadata": {
            "tags": []
          },
          "execution_count": 117
        }
      ]
    },
    {
      "cell_type": "code",
      "metadata": {
        "id": "mOTkN-vJVqC3",
        "outputId": "b1b6127a-00fe-41fa-d98b-961f47985479",
        "colab": {
          "base_uri": "https://localhost:8080/",
          "height": 34
        }
      },
      "source": [
        "# odległość dwóch punktów\n",
        "a=np.array([3,0])\n",
        "b=np.array([0,4])\n",
        "np.linalg.norm(a-b)"
      ],
      "execution_count": null,
      "outputs": [
        {
          "output_type": "execute_result",
          "data": {
            "text/plain": [
              "5.0"
            ]
          },
          "metadata": {
            "tags": []
          },
          "execution_count": 119
        }
      ]
    },
    {
      "cell_type": "code",
      "metadata": {
        "id": "rYF7D-sEWNqr",
        "outputId": "4427cb5e-20fd-40ae-ec80-778e53dd09da",
        "colab": {
          "base_uri": "https://localhost:8080/",
          "height": 34
        }
      },
      "source": [
        "a=np.array([3,0,1])\n",
        "b=np.array([0,4,2])\n",
        "np.linalg.norm(a-b)"
      ],
      "execution_count": null,
      "outputs": [
        {
          "output_type": "execute_result",
          "data": {
            "text/plain": [
              "5.0990195135927845"
            ]
          },
          "metadata": {
            "tags": []
          },
          "execution_count": 120
        }
      ]
    },
    {
      "cell_type": "code",
      "metadata": {
        "id": "okcbcYNcWS_j",
        "outputId": "7132a224-a579-4ded-ebe5-774471a9afb9",
        "colab": {
          "base_uri": "https://localhost:8080/",
          "height": 51
        }
      },
      "source": [
        "#mnozenie macierzy\n",
        "x = np.array([[5, 3], [3, 9]])\n",
        "y = np.array([[1], [-1]])\n",
        "z = np.dot(x,y)\n",
        "z"
      ],
      "execution_count": null,
      "outputs": [
        {
          "output_type": "execute_result",
          "data": {
            "text/plain": [
              "array([[ 2],\n",
              "       [-6]])"
            ]
          },
          "metadata": {
            "tags": []
          },
          "execution_count": 121
        }
      ]
    },
    {
      "cell_type": "code",
      "metadata": {
        "id": "1xSzRkWZXmce",
        "outputId": "6acb5a70-6c7e-4a6b-84ed-6da0c7357a1e",
        "colab": {
          "base_uri": "https://localhost:8080/",
          "height": 51
        }
      },
      "source": [
        "x = np.array([[2, -1, 3],[3, 1, 0]])\n",
        "y = np.array([[2, 1, -1],[0, -1, 2],[3, 2, 0]])\n",
        "z = np.dot(x,y)\n",
        "z"
      ],
      "execution_count": null,
      "outputs": [
        {
          "output_type": "execute_result",
          "data": {
            "text/plain": [
              "array([[13,  9, -4],\n",
              "       [ 6,  2, -1]])"
            ]
          },
          "metadata": {
            "tags": []
          },
          "execution_count": 122
        }
      ]
    },
    {
      "cell_type": "code",
      "metadata": {
        "id": "xKkRwWn80Dk-",
        "outputId": "b0608a74-13e2-4638-8d8d-d3e579541085",
        "colab": {
          "base_uri": "https://localhost:8080/",
          "height": 34
        }
      },
      "source": [
        "# wyznacznik macierzy\n",
        "a = np.array([[2,4],[-1,3]])\n",
        "round(np.linalg.det(a))"
      ],
      "execution_count": 3,
      "outputs": [
        {
          "output_type": "execute_result",
          "data": {
            "text/plain": [
              "10.0"
            ]
          },
          "metadata": {
            "tags": []
          },
          "execution_count": 3
        }
      ]
    },
    {
      "cell_type": "code",
      "metadata": {
        "id": "balOQdYG0euZ",
        "outputId": "5d80e018-b59d-48ed-938a-080bf9259bfe",
        "colab": {
          "base_uri": "https://localhost:8080/",
          "height": 34
        }
      },
      "source": [
        "# ślad macierzy\n",
        "np.trace(a)"
      ],
      "execution_count": 4,
      "outputs": [
        {
          "output_type": "execute_result",
          "data": {
            "text/plain": [
              "5"
            ]
          },
          "metadata": {
            "tags": []
          },
          "execution_count": 4
        }
      ]
    },
    {
      "cell_type": "code",
      "metadata": {
        "id": "S74rcIT30qDM"
      },
      "source": [
        "# macierz jednostkowa\n",
        "np.eye(5)"
      ],
      "execution_count": null,
      "outputs": []
    },
    {
      "cell_type": "code",
      "metadata": {
        "id": "XKqt-3FX1Bp8",
        "outputId": "6809a404-a20a-41b1-b57c-69915a29f8f9",
        "colab": {
          "base_uri": "https://localhost:8080/",
          "height": 51
        }
      },
      "source": [
        "# macierz odwrotna\n",
        "np.linalg.inv(a)"
      ],
      "execution_count": 6,
      "outputs": [
        {
          "output_type": "execute_result",
          "data": {
            "text/plain": [
              "array([[ 0.3, -0.4],\n",
              "       [ 0.1,  0.2]])"
            ]
          },
          "metadata": {
            "tags": []
          },
          "execution_count": 6
        }
      ]
    },
    {
      "cell_type": "code",
      "metadata": {
        "id": "eronVo_p1PRP",
        "outputId": "9ccc72ca-79e9-4065-c04e-13816f371131",
        "colab": {
          "base_uri": "https://localhost:8080/",
          "height": 51
        }
      },
      "source": [
        "# macierz transponowana\n",
        "np.transpose(a) # a.T"
      ],
      "execution_count": 7,
      "outputs": [
        {
          "output_type": "execute_result",
          "data": {
            "text/plain": [
              "array([[ 2, -1],\n",
              "       [ 4,  3]])"
            ]
          },
          "metadata": {
            "tags": []
          },
          "execution_count": 7
        }
      ]
    },
    {
      "cell_type": "code",
      "metadata": {
        "id": "g095V73R34i8",
        "outputId": "d54bf2c7-30a3-47e8-892b-e1ddcf4bd3f2",
        "colab": {
          "base_uri": "https://localhost:8080/",
          "height": 34
        }
      },
      "source": [
        "# rozwiazywanie układów równań\n",
        "a = np.array([[2,4], [1,-1]])\n",
        "b = np.array([10,-1])\n",
        "\n",
        "a_inv = np.linalg.inv(a)\n",
        "x = np.dot(a_inv, b)\n",
        "x"
      ],
      "execution_count": 8,
      "outputs": [
        {
          "output_type": "execute_result",
          "data": {
            "text/plain": [
              "array([1., 2.])"
            ]
          },
          "metadata": {
            "tags": []
          },
          "execution_count": 8
        }
      ]
    }
  ]
}