{
  "nbformat": 4,
  "nbformat_minor": 0,
  "metadata": {
    "colab": {
      "name": "ds_udemy_1.ipynb",
      "provenance": [],
      "collapsed_sections": [],
      "mount_file_id": "1Xt18ZvUrGKKPhtBygIrwX_HB5npY1Lio",
      "authorship_tag": "ABX9TyNSHqMgAlxUlQEP+4oTq4+g",
      "include_colab_link": true
    },
    "kernelspec": {
      "name": "python3",
      "display_name": "Python 3"
    }
  },
  "cells": [
    {
      "cell_type": "markdown",
      "metadata": {
        "id": "view-in-github",
        "colab_type": "text"
      },
      "source": [
        "<a href=\"https://colab.research.google.com/github/slawekpl81/data_science_udemy/blob/master/ds_udemy_1.ipynb\" target=\"_parent\"><img src=\"https://colab.research.google.com/assets/colab-badge.svg\" alt=\"Open In Colab\"/></a>"
      ]
    },
    {
      "cell_type": "code",
      "metadata": {
        "id": "RcGWoaRW1meB",
        "outputId": "949314ce-7198-40f1-c877-f917d8e15170",
        "colab": {
          "base_uri": "https://localhost:8080/",
          "height": 35
        }
      },
      "source": [
        "import numpy as np\n",
        "np.__version__"
      ],
      "execution_count": 4,
      "outputs": [
        {
          "output_type": "execute_result",
          "data": {
            "application/vnd.google.colaboratory.intrinsic+json": {
              "type": "string"
            },
            "text/plain": [
              "'1.18.5'"
            ]
          },
          "metadata": {
            "tags": []
          },
          "execution_count": 4
        }
      ]
    },
    {
      "cell_type": "code",
      "metadata": {
        "id": "nHuLX8UB18N7"
      },
      "source": [
        "dir(np)\n",
        "help(np.array)"
      ],
      "execution_count": null,
      "outputs": []
    },
    {
      "cell_type": "code",
      "metadata": {
        "id": "kdkzrubm3QVw",
        "outputId": "ee8e893f-aecf-4fbd-f3b9-58175f855fee",
        "colab": {
          "base_uri": "https://localhost:8080/",
          "height": 119
        }
      },
      "source": [
        "x = np.array([1, 3])\n",
        "print(x)\n",
        "print(f'type: {type(x)}')\n",
        "print(f'ndim:{x.ndim}')\n",
        "print(f'shape:{x.shape}')\n",
        "print(f'size: {x.size}')\n",
        "print(f'dtype: {x.dtype}')"
      ],
      "execution_count": 13,
      "outputs": [
        {
          "output_type": "stream",
          "text": [
            "[1 3]\n",
            "type: <class 'numpy.ndarray'>\n",
            "ndim:1\n",
            "shape:(2,)\n",
            "size: 2\n",
            "dtype: int64\n"
          ],
          "name": "stdout"
        }
      ]
    },
    {
      "cell_type": "code",
      "metadata": {
        "id": "rYG4DDCx30Sq",
        "outputId": "38d6842a-5c68-4c3d-e626-d1f469d7798d",
        "colab": {
          "base_uri": "https://localhost:8080/",
          "height": 34
        }
      },
      "source": [
        "x = np.array([[1, 2], [-3, 1]])\n",
        "x.shape"
      ],
      "execution_count": 19,
      "outputs": [
        {
          "output_type": "execute_result",
          "data": {
            "text/plain": [
              "(2, 2)"
            ]
          },
          "metadata": {
            "tags": []
          },
          "execution_count": 19
        }
      ]
    },
    {
      "cell_type": "code",
      "metadata": {
        "id": "2FUM632z5baL",
        "outputId": "49dd5c41-4ae4-412f-fa23-59f70efbd332",
        "colab": {
          "base_uri": "https://localhost:8080/",
          "height": 34
        }
      },
      "source": [
        "x = np.array([[1, 2, 4], [4, 2, 1]])\n",
        "x.shape"
      ],
      "execution_count": 25,
      "outputs": [
        {
          "output_type": "execute_result",
          "data": {
            "text/plain": [
              "(2, 3)"
            ]
          },
          "metadata": {
            "tags": []
          },
          "execution_count": 25
        }
      ]
    },
    {
      "cell_type": "code",
      "metadata": {
        "id": "gNGHn1wc5v22",
        "outputId": "efeec27a-4886-452e-ee75-edf2ac9a9bb5",
        "colab": {
          "base_uri": "https://localhost:8080/",
          "height": 34
        }
      },
      "source": [
        "x = np.array(\n",
        "    [[[4, 3, 1],\n",
        "      [3, 1, 2]],\n",
        "     \n",
        "     [[4, 1, 3],\n",
        "      [4, 2, 1]],\n",
        "     \n",
        "     [[3, 2, 1],\n",
        "      [4, 3, 2]]], dtype='float'\n",
        ")\n",
        "x.dtype"
      ],
      "execution_count": 26,
      "outputs": [
        {
          "output_type": "execute_result",
          "data": {
            "text/plain": [
              "dtype('float64')"
            ]
          },
          "metadata": {
            "tags": []
          },
          "execution_count": 26
        }
      ]
    },
    {
      "cell_type": "code",
      "metadata": {
        "id": "6V5hdQqN9UP-"
      },
      "source": [
        "np.zeros(shape=(4, 10), dtype='int')"
      ],
      "execution_count": null,
      "outputs": []
    },
    {
      "cell_type": "code",
      "metadata": {
        "id": "HTChOr0M9oml"
      },
      "source": [
        "np.ones(shape=(4, 10), dtype='int')"
      ],
      "execution_count": null,
      "outputs": []
    },
    {
      "cell_type": "code",
      "metadata": {
        "id": "I-G7yrmd9uwa"
      },
      "source": [
        "np.full(shape=(5, 5), dtype='int', fill_value=4)"
      ],
      "execution_count": null,
      "outputs": []
    },
    {
      "cell_type": "code",
      "metadata": {
        "id": "RJzzrg4D93tN"
      },
      "source": [
        "np.arange(5,100,6).reshape((8,2,1))"
      ],
      "execution_count": null,
      "outputs": []
    },
    {
      "cell_type": "code",
      "metadata": {
        "id": "XwfVWSEa_mJz"
      },
      "source": [
        "np.arange(5,100,6).reshape((4, -1))"
      ],
      "execution_count": null,
      "outputs": []
    },
    {
      "cell_type": "code",
      "metadata": {
        "id": "zcoEWZu2-gWV"
      },
      "source": [
        "np.linspace(start=0, stop=20, num=8)"
      ],
      "execution_count": null,
      "outputs": []
    },
    {
      "cell_type": "code",
      "metadata": {
        "id": "P4nPWzos-rHx"
      },
      "source": [
        "A = np.array([3,1,4,2])\n",
        "B = np.array([3,-1,3,2])\n",
        "print(A+B)\n",
        "print(A-B)\n",
        "print(A*B)\n",
        "print(A/B)"
      ],
      "execution_count": null,
      "outputs": []
    },
    {
      "cell_type": "code",
      "metadata": {
        "id": "54wNOxikCk-i"
      },
      "source": [
        "print(A+3)\n",
        "print(3*A)\n",
        "print(A+ 3*B)"
      ],
      "execution_count": null,
      "outputs": []
    },
    {
      "cell_type": "code",
      "metadata": {
        "id": "y5f_rur3DLGl"
      },
      "source": [
        "x = np.array([[1,3],[-2,0]])\n",
        "y = np.array([[6,0],[-1,2]])\n",
        "print(x*y)\n",
        "print(np.dot(x,y))\n",
        "print(x.dot(y))\n",
        "print(y.dot(x))\n",
        "print(x@y)"
      ],
      "execution_count": null,
      "outputs": []
    },
    {
      "cell_type": "code",
      "metadata": {
        "id": "STX7WXreDszb"
      },
      "source": [
        "np.random.seed(0)"
      ],
      "execution_count": 49,
      "outputs": []
    },
    {
      "cell_type": "code",
      "metadata": {
        "id": "j4642OPNEraK"
      },
      "source": [
        "np.random.randn(10)"
      ],
      "execution_count": null,
      "outputs": []
    },
    {
      "cell_type": "code",
      "metadata": {
        "id": "1pDG_blUE-mz"
      },
      "source": [
        "np.random.rand()"
      ],
      "execution_count": null,
      "outputs": []
    },
    {
      "cell_type": "code",
      "metadata": {
        "id": "qQQnBBrfFE41"
      },
      "source": [
        "np.random.randint(10)"
      ],
      "execution_count": null,
      "outputs": []
    },
    {
      "cell_type": "code",
      "metadata": {
        "id": "K-BM_Z5PIomd"
      },
      "source": [
        "np.random.choice(range(100))"
      ],
      "execution_count": null,
      "outputs": []
    },
    {
      "cell_type": "code",
      "metadata": {
        "id": "4cWT__QBI_ZJ"
      },
      "source": [
        "data = np.arange(10)\n",
        "np.random.shuffle(data)\n",
        "data"
      ],
      "execution_count": null,
      "outputs": []
    },
    {
      "cell_type": "code",
      "metadata": {
        "id": "5alUHeOdJST5"
      },
      "source": [
        "print(np.exp(1))\n",
        "print(np.sqrt(16))\n",
        "x=[1,2,3,4,5,0]\n",
        "print(np.all(x))\n",
        "print(np.any(x))"
      ],
      "execution_count": null,
      "outputs": []
    },
    {
      "cell_type": "code",
      "metadata": {
        "id": "FuRwgik1NNUO"
      },
      "source": [
        "a = np.random.rand(10)\n",
        "print(a)\n",
        "print(np.argmax(a))\n",
        "print(a[np.argmax(a)])\n",
        "print(np.argsort(a))"
      ],
      "execution_count": null,
      "outputs": []
    },
    {
      "cell_type": "code",
      "metadata": {
        "id": "pJUtvv_EOOor"
      },
      "source": [
        "print(f'max:{a.max()}')\n",
        "print(f'min:{a.min()}')\n",
        "print(f'mean:{a.mean()}')\n",
        "print(f'median:{np.median(a)}')\n",
        "print(f'standard:{np.std(a)}')"
      ],
      "execution_count": null,
      "outputs": []
    },
    {
      "cell_type": "code",
      "metadata": {
        "id": "TsOr0rL4PKEz"
      },
      "source": [
        "a = np.arange(20)\n",
        "a=a.reshape(4,5)\n",
        "print(a)\n",
        "print(a[:,1])"
      ],
      "execution_count": null,
      "outputs": []
    },
    {
      "cell_type": "code",
      "metadata": {
        "id": "M5OGGnt1QuWv"
      },
      "source": [
        "for item in a.flat:\n",
        "  print(item)"
      ],
      "execution_count": null,
      "outputs": []
    },
    {
      "cell_type": "code",
      "metadata": {
        "id": "DDqybXp1RXxR"
      },
      "source": [
        "print(a.ravel())\n",
        "print(a.transpose())"
      ],
      "execution_count": null,
      "outputs": []
    },
    {
      "cell_type": "code",
      "metadata": {
        "id": "LrrZphhBRsSg",
        "outputId": "57015fd5-7606-41b9-8d33-b7160ebb7eb1",
        "colab": {
          "base_uri": "https://localhost:8080/",
          "height": 595
        }
      },
      "source": [
        "a=np.arange(-10,10,0.5)\n",
        "a=a.reshape(10,-1)\n",
        "print(a)\n",
        "print(a>0)\n",
        "print(a[a>0])\n",
        "print(np.bitwise_and(a>-5,a<5))\n",
        "print(a[np.bitwise_and(a>-5,a<5)])"
      ],
      "execution_count": 106,
      "outputs": [
        {
          "output_type": "stream",
          "text": [
            "[[-10.   -9.5  -9.   -8.5]\n",
            " [ -8.   -7.5  -7.   -6.5]\n",
            " [ -6.   -5.5  -5.   -4.5]\n",
            " [ -4.   -3.5  -3.   -2.5]\n",
            " [ -2.   -1.5  -1.   -0.5]\n",
            " [  0.    0.5   1.    1.5]\n",
            " [  2.    2.5   3.    3.5]\n",
            " [  4.    4.5   5.    5.5]\n",
            " [  6.    6.5   7.    7.5]\n",
            " [  8.    8.5   9.    9.5]]\n",
            "[[False False False False]\n",
            " [False False False False]\n",
            " [False False False False]\n",
            " [False False False False]\n",
            " [False False False False]\n",
            " [False  True  True  True]\n",
            " [ True  True  True  True]\n",
            " [ True  True  True  True]\n",
            " [ True  True  True  True]\n",
            " [ True  True  True  True]]\n",
            "[0.5 1.  1.5 2.  2.5 3.  3.5 4.  4.5 5.  5.5 6.  6.5 7.  7.5 8.  8.5 9.\n",
            " 9.5]\n",
            "[[False False False False]\n",
            " [False False False False]\n",
            " [False False False  True]\n",
            " [ True  True  True  True]\n",
            " [ True  True  True  True]\n",
            " [ True  True  True  True]\n",
            " [ True  True  True  True]\n",
            " [ True  True False False]\n",
            " [False False False False]\n",
            " [False False False False]]\n",
            "[-4.5 -4.  -3.5 -3.  -2.5 -2.  -1.5 -1.  -0.5  0.   0.5  1.   1.5  2.\n",
            "  2.5  3.   3.5  4.   4.5]\n"
          ],
          "name": "stdout"
        }
      ]
    }
  ]
}