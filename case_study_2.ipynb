{
  "nbformat": 4,
  "nbformat_minor": 0,
  "metadata": {
    "colab": {
      "name": "case_study_2.ipynb",
      "provenance": [],
      "authorship_tag": "ABX9TyNIOp/Laxm5oK35QxOUmxlC",
      "include_colab_link": true
    },
    "kernelspec": {
      "name": "python3",
      "display_name": "Python 3"
    }
  },
  "cells": [
    {
      "cell_type": "markdown",
      "metadata": {
        "id": "view-in-github",
        "colab_type": "text"
      },
      "source": [
        "<a href=\"https://colab.research.google.com/github/slawekpl81/data_science_udemy/blob/master/case_study_2.ipynb\" target=\"_parent\"><img src=\"https://colab.research.google.com/assets/colab-badge.svg\" alt=\"Open In Colab\"/></a>"
      ]
    },
    {
      "cell_type": "code",
      "metadata": {
        "id": "s9M5MShRoBTD"
      },
      "source": [
        "import numpy as np\n",
        "import pandas as pd"
      ],
      "execution_count": 1,
      "outputs": []
    },
    {
      "cell_type": "code",
      "metadata": {
        "id": "xRGNHOQwoJT8"
      },
      "source": [
        "def fetch_financial_data(company='AMZN'): # Amazon\n",
        "  import pandas_datareader.data as web\n",
        "  return web.DataReader(name=company, data_source='stooq')\n",
        "\n",
        "apple = fetch_financial_data('AAPL')\n",
        "amazon = fetch_financial_data('AMZN')\n",
        "google = fetch_financial_data('GOOGL')\n",
        "uber = fetch_financial_data('UBER')"
      ],
      "execution_count": 2,
      "outputs": []
    },
    {
      "cell_type": "code",
      "metadata": {
        "id": "fkhiW6kboxVW"
      },
      "source": [
        "apple.columns = ['apple_'+col.lower() for col in apple.columns]\n",
        "amazon.columns = ['amazon_'+col.lower() for col in amazon.columns]\n",
        "google.columns = ['google_'+col.lower() for col in google.columns]\n",
        "uber.columns = ['uber_'+col.lower() for col in uber.columns]"
      ],
      "execution_count": 4,
      "outputs": []
    },
    {
      "cell_type": "code",
      "metadata": {
        "id": "bMAYHnYnqW7t"
      },
      "source": [
        "df = pd.concat(objs=[apple,amazon,google,uber], axis=1)\n",
        "df.head()"
      ],
      "execution_count": null,
      "outputs": []
    },
    {
      "cell_type": "code",
      "metadata": {
        "id": "D8dbgwF2rpK8"
      },
      "source": [
        "df.iloc[:,3::5].plot()"
      ],
      "execution_count": null,
      "outputs": []
    },
    {
      "cell_type": "code",
      "metadata": {
        "id": "4fkIKEh3u2Hf"
      },
      "source": [
        "pd.set_option('display.float_format', lambda x: f'{x:.2f}')\n",
        "df.describe().T"
      ],
      "execution_count": null,
      "outputs": []
    },
    {
      "cell_type": "code",
      "metadata": {
        "id": "v7MnPhd6wFEL"
      },
      "source": [
        "df.corr()"
      ],
      "execution_count": null,
      "outputs": []
    },
    {
      "cell_type": "code",
      "metadata": {
        "id": "XxZfIPG6wJCe"
      },
      "source": [
        "closes = [col for col in df.columns if col.endswith('close')]\n",
        "df[closes].corr()"
      ],
      "execution_count": null,
      "outputs": []
    },
    {
      "cell_type": "code",
      "metadata": {
        "id": "E2T6VHFFyhOp"
      },
      "source": [
        "uber_6 = uber[uber.index.month == 6]\n",
        "uber_7 = uber[uber.index.month == 7]\n",
        "uber_67 = uber_6.append(uber_7)\n",
        "uber_67 = uber_67.sort_index()\n",
        "uber_67"
      ],
      "execution_count": null,
      "outputs": []
    }
  ]
}