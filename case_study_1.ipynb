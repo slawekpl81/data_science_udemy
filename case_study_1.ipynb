{
  "nbformat": 4,
  "nbformat_minor": 0,
  "metadata": {
    "colab": {
      "name": "case_study_1.ipynb",
      "provenance": [],
      "collapsed_sections": [],
      "authorship_tag": "ABX9TyM28UeQCX7xs0hgmaxNHZrH",
      "include_colab_link": true
    },
    "kernelspec": {
      "name": "python3",
      "display_name": "Python 3"
    }
  },
  "cells": [
    {
      "cell_type": "markdown",
      "metadata": {
        "id": "view-in-github",
        "colab_type": "text"
      },
      "source": [
        "<a href=\"https://colab.research.google.com/github/slawekpl81/data_science_udemy/blob/master/case_study_1.ipynb\" target=\"_parent\"><img src=\"https://colab.research.google.com/assets/colab-badge.svg\" alt=\"Open In Colab\"/></a>"
      ]
    },
    {
      "cell_type": "code",
      "metadata": {
        "id": "pMK0KIhUFE1L"
      },
      "source": [
        "import pandas as pd\n",
        "import numpy as np"
      ],
      "execution_count": 1,
      "outputs": []
    },
    {
      "cell_type": "code",
      "metadata": {
        "id": "g-P3IVDGIAmz"
      },
      "source": [
        "def fetch_financial_data(company='AMZN'): # Amazon\n",
        "  import pandas_datareader.data as web\n",
        "  return web.DataReader(name=company, data_source='stooq')\n",
        "\n",
        "df = fetch_financial_data()\n",
        "df.describe().T"
      ],
      "execution_count": null,
      "outputs": []
    },
    {
      "cell_type": "code",
      "metadata": {
        "id": "ybwrGM0NIs-1",
        "outputId": "e07b97ed-6b4b-49bd-d9b4-f085ef384228",
        "colab": {
          "base_uri": "https://localhost:8080/",
          "height": 235
        }
      },
      "source": [
        "df.head()"
      ],
      "execution_count": 13,
      "outputs": [
        {
          "output_type": "execute_result",
          "data": {
            "text/html": [
              "<div>\n",
              "<style scoped>\n",
              "    .dataframe tbody tr th:only-of-type {\n",
              "        vertical-align: middle;\n",
              "    }\n",
              "\n",
              "    .dataframe tbody tr th {\n",
              "        vertical-align: top;\n",
              "    }\n",
              "\n",
              "    .dataframe thead th {\n",
              "        text-align: right;\n",
              "    }\n",
              "</style>\n",
              "<table border=\"1\" class=\"dataframe\">\n",
              "  <thead>\n",
              "    <tr style=\"text-align: right;\">\n",
              "      <th></th>\n",
              "      <th>Open</th>\n",
              "      <th>High</th>\n",
              "      <th>Low</th>\n",
              "      <th>Close</th>\n",
              "      <th>Volume</th>\n",
              "    </tr>\n",
              "    <tr>\n",
              "      <th>Date</th>\n",
              "      <th></th>\n",
              "      <th></th>\n",
              "      <th></th>\n",
              "      <th></th>\n",
              "      <th></th>\n",
              "    </tr>\n",
              "  </thead>\n",
              "  <tbody>\n",
              "    <tr>\n",
              "      <th>2020-10-02</th>\n",
              "      <td>3153.63</td>\n",
              "      <td>3195.7965</td>\n",
              "      <td>3123.0000</td>\n",
              "      <td>3125.00</td>\n",
              "      <td>5613098</td>\n",
              "    </tr>\n",
              "    <tr>\n",
              "      <th>2020-10-01</th>\n",
              "      <td>3208.00</td>\n",
              "      <td>3224.0000</td>\n",
              "      <td>3172.0000</td>\n",
              "      <td>3221.26</td>\n",
              "      <td>4971922</td>\n",
              "    </tr>\n",
              "    <tr>\n",
              "      <th>2020-09-30</th>\n",
              "      <td>3141.14</td>\n",
              "      <td>3212.8800</td>\n",
              "      <td>3133.9900</td>\n",
              "      <td>3148.73</td>\n",
              "      <td>4896101</td>\n",
              "    </tr>\n",
              "    <tr>\n",
              "      <th>2020-09-29</th>\n",
              "      <td>3175.39</td>\n",
              "      <td>3188.2600</td>\n",
              "      <td>3132.5400</td>\n",
              "      <td>3144.88</td>\n",
              "      <td>3503398</td>\n",
              "    </tr>\n",
              "    <tr>\n",
              "      <th>2020-09-28</th>\n",
              "      <td>3148.85</td>\n",
              "      <td>3175.0400</td>\n",
              "      <td>3117.1684</td>\n",
              "      <td>3174.05</td>\n",
              "      <td>4224165</td>\n",
              "    </tr>\n",
              "  </tbody>\n",
              "</table>\n",
              "</div>"
            ],
            "text/plain": [
              "               Open       High        Low    Close   Volume\n",
              "Date                                                       \n",
              "2020-10-02  3153.63  3195.7965  3123.0000  3125.00  5613098\n",
              "2020-10-01  3208.00  3224.0000  3172.0000  3221.26  4971922\n",
              "2020-09-30  3141.14  3212.8800  3133.9900  3148.73  4896101\n",
              "2020-09-29  3175.39  3188.2600  3132.5400  3144.88  3503398\n",
              "2020-09-28  3148.85  3175.0400  3117.1684  3174.05  4224165"
            ]
          },
          "metadata": {
            "tags": []
          },
          "execution_count": 13
        }
      ]
    },
    {
      "cell_type": "code",
      "metadata": {
        "id": "lr2tN-vVJFWT"
      },
      "source": [
        "df.loc[:,'Volume']"
      ],
      "execution_count": null,
      "outputs": []
    },
    {
      "cell_type": "code",
      "metadata": {
        "id": "fxKJQ0hkK7Hk",
        "outputId": "b0c7893f-570f-401c-a790-d82622a87f68",
        "colab": {
          "base_uri": "https://localhost:8080/",
          "height": 34
        }
      },
      "source": [
        "df.columns = [col.lower() for col in df.columns]\n",
        "df.columns"
      ],
      "execution_count": 17,
      "outputs": [
        {
          "output_type": "execute_result",
          "data": {
            "text/plain": [
              "Index(['open', 'high', 'low', 'close', 'volume'], dtype='object')"
            ]
          },
          "metadata": {
            "tags": []
          },
          "execution_count": 17
        }
      ]
    },
    {
      "cell_type": "code",
      "metadata": {
        "id": "WNLKeWjCMpM-"
      },
      "source": [
        "df10 = df.head(10)\n",
        "df10"
      ],
      "execution_count": null,
      "outputs": []
    },
    {
      "cell_type": "code",
      "metadata": {
        "id": "3NyCuDQ2NEHW",
        "outputId": "0dfc309e-96ab-402a-e883-958c916d06c6",
        "colab": {
          "base_uri": "https://localhost:8080/",
          "height": 111
        }
      },
      "source": [
        "df10[['open', 'close']].T"
      ],
      "execution_count": 22,
      "outputs": [
        {
          "output_type": "execute_result",
          "data": {
            "text/html": [
              "<div>\n",
              "<style scoped>\n",
              "    .dataframe tbody tr th:only-of-type {\n",
              "        vertical-align: middle;\n",
              "    }\n",
              "\n",
              "    .dataframe tbody tr th {\n",
              "        vertical-align: top;\n",
              "    }\n",
              "\n",
              "    .dataframe thead th {\n",
              "        text-align: right;\n",
              "    }\n",
              "</style>\n",
              "<table border=\"1\" class=\"dataframe\">\n",
              "  <thead>\n",
              "    <tr style=\"text-align: right;\">\n",
              "      <th>Date</th>\n",
              "      <th>2020-10-02</th>\n",
              "      <th>2020-10-01</th>\n",
              "      <th>2020-09-30</th>\n",
              "      <th>2020-09-29</th>\n",
              "      <th>2020-09-28</th>\n",
              "      <th>2020-09-25</th>\n",
              "      <th>2020-09-24</th>\n",
              "      <th>2020-09-23</th>\n",
              "      <th>2020-09-22</th>\n",
              "      <th>2020-09-21</th>\n",
              "    </tr>\n",
              "  </thead>\n",
              "  <tbody>\n",
              "    <tr>\n",
              "      <th>open</th>\n",
              "      <td>3153.63</td>\n",
              "      <td>3208.00</td>\n",
              "      <td>3141.14</td>\n",
              "      <td>3175.39</td>\n",
              "      <td>3148.85</td>\n",
              "      <td>3054.86</td>\n",
              "      <td>2977.79</td>\n",
              "      <td>3120.43</td>\n",
              "      <td>3033.835</td>\n",
              "      <td>2906.50</td>\n",
              "    </tr>\n",
              "    <tr>\n",
              "      <th>close</th>\n",
              "      <td>3125.00</td>\n",
              "      <td>3221.26</td>\n",
              "      <td>3148.73</td>\n",
              "      <td>3144.88</td>\n",
              "      <td>3174.05</td>\n",
              "      <td>3095.13</td>\n",
              "      <td>3019.79</td>\n",
              "      <td>2999.86</td>\n",
              "      <td>3128.990</td>\n",
              "      <td>2960.47</td>\n",
              "    </tr>\n",
              "  </tbody>\n",
              "</table>\n",
              "</div>"
            ],
            "text/plain": [
              "Date   2020-10-02  2020-10-01  2020-09-30  ...  2020-09-23  2020-09-22  2020-09-21\n",
              "open      3153.63     3208.00     3141.14  ...     3120.43    3033.835     2906.50\n",
              "close     3125.00     3221.26     3148.73  ...     2999.86    3128.990     2960.47\n",
              "\n",
              "[2 rows x 10 columns]"
            ]
          },
          "metadata": {
            "tags": []
          },
          "execution_count": 22
        }
      ]
    },
    {
      "cell_type": "code",
      "metadata": {
        "id": "8z0NlRsfNTY5"
      },
      "source": [
        "df10.iloc[:,[0,-2]]"
      ],
      "execution_count": null,
      "outputs": []
    },
    {
      "cell_type": "code",
      "metadata": {
        "id": "kKg2cHOZNjQo"
      },
      "source": [
        "df10.iloc[:,3:5]"
      ],
      "execution_count": null,
      "outputs": []
    },
    {
      "cell_type": "code",
      "metadata": {
        "id": "NLHKGCjZNqNu"
      },
      "source": [
        "df10.iloc[[1,3],[0,-2]]"
      ],
      "execution_count": null,
      "outputs": []
    },
    {
      "cell_type": "code",
      "metadata": {
        "id": "PfqkdypAONOI"
      },
      "source": [
        "df.loc['2019-12-10': '2019-12-01']"
      ],
      "execution_count": null,
      "outputs": []
    },
    {
      "cell_type": "code",
      "metadata": {
        "id": "3bCUbGr3P1Gs"
      },
      "source": [
        "df = fetch_financial_data('MSFT') # microsotf\n",
        "df.describe()"
      ],
      "execution_count": null,
      "outputs": []
    },
    {
      "cell_type": "code",
      "metadata": {
        "id": "7PfCSd1PQb4p",
        "outputId": "b3cbec48-0a80-4f91-e994-c0918203bc79",
        "colab": {
          "base_uri": "https://localhost:8080/",
          "height": 221
        }
      },
      "source": [
        "df = fetch_financial_data('UBER') # uber\n",
        "df.info()"
      ],
      "execution_count": 34,
      "outputs": [
        {
          "output_type": "stream",
          "text": [
            "<class 'pandas.core.frame.DataFrame'>\n",
            "DatetimeIndex: 354 entries, 2020-10-02 to 2019-05-10\n",
            "Data columns (total 5 columns):\n",
            " #   Column  Non-Null Count  Dtype  \n",
            "---  ------  --------------  -----  \n",
            " 0   Open    354 non-null    float64\n",
            " 1   High    354 non-null    float64\n",
            " 2   Low     354 non-null    float64\n",
            " 3   Close   354 non-null    float64\n",
            " 4   Volume  354 non-null    int64  \n",
            "dtypes: float64(4), int64(1)\n",
            "memory usage: 16.6 KB\n"
          ],
          "name": "stdout"
        }
      ]
    },
    {
      "cell_type": "code",
      "metadata": {
        "id": "p-JFqwxvQom0"
      },
      "source": [
        "# nowa kolumna\n",
        "df['Average'] = (df.Open + df.Close)/2\n",
        "df"
      ],
      "execution_count": null,
      "outputs": []
    },
    {
      "cell_type": "code",
      "metadata": {
        "id": "IqFigBjyRAL3"
      },
      "source": [
        "df = df.sort_index()"
      ],
      "execution_count": 37,
      "outputs": []
    },
    {
      "cell_type": "code",
      "metadata": {
        "id": "y4coHA05RKLw"
      },
      "source": [
        "df['Close_shift'] = df.Close.shift(1) # shift() przesunięcie kolumny w pione\n",
        "df"
      ],
      "execution_count": null,
      "outputs": []
    },
    {
      "cell_type": "code",
      "metadata": {
        "id": "BgzB2B73TNjr"
      },
      "source": [
        "# dzienna zmiana w procentach\n",
        "df['Daily_Change'] = (df.Close / df.Close_shift -1) * 100\n",
        "# del df['Daily Change']\n",
        "df"
      ],
      "execution_count": null,
      "outputs": []
    },
    {
      "cell_type": "code",
      "metadata": {
        "id": "i4jCIm95T2RA",
        "outputId": "6f13d6e6-f62a-478f-9e3f-a22ba04051f0",
        "colab": {
          "base_uri": "https://localhost:8080/",
          "height": 34
        }
      },
      "source": [
        "df.Daily_Change.max()"
      ],
      "execution_count": 55,
      "outputs": [
        {
          "output_type": "execute_result",
          "data": {
            "text/plain": [
              "38.25910931174088"
            ]
          },
          "metadata": {
            "tags": []
          },
          "execution_count": 55
        }
      ]
    },
    {
      "cell_type": "code",
      "metadata": {
        "id": "DzJMZJTHVfEH",
        "outputId": "8e4e749a-e080-4df0-8c6a-211e18746f69",
        "colab": {
          "base_uri": "https://localhost:8080/",
          "height": 34
        }
      },
      "source": [
        "df.Daily_Change.idxmax()"
      ],
      "execution_count": 56,
      "outputs": [
        {
          "output_type": "execute_result",
          "data": {
            "text/plain": [
              "Timestamp('2020-03-19 00:00:00')"
            ]
          },
          "metadata": {
            "tags": []
          },
          "execution_count": 56
        }
      ]
    },
    {
      "cell_type": "code",
      "metadata": {
        "id": "w5vqjjKAVqV_",
        "outputId": "b1fc35f8-7df6-4d1f-8b4f-0ced6b2e2548",
        "colab": {
          "base_uri": "https://localhost:8080/",
          "height": 142
        }
      },
      "source": [
        "df.loc[[df.Daily_Change.idxmax(), df.Daily_Change.idxmin()]]"
      ],
      "execution_count": 60,
      "outputs": [
        {
          "output_type": "execute_result",
          "data": {
            "text/html": [
              "<div>\n",
              "<style scoped>\n",
              "    .dataframe tbody tr th:only-of-type {\n",
              "        vertical-align: middle;\n",
              "    }\n",
              "\n",
              "    .dataframe tbody tr th {\n",
              "        vertical-align: top;\n",
              "    }\n",
              "\n",
              "    .dataframe thead th {\n",
              "        text-align: right;\n",
              "    }\n",
              "</style>\n",
              "<table border=\"1\" class=\"dataframe\">\n",
              "  <thead>\n",
              "    <tr style=\"text-align: right;\">\n",
              "      <th></th>\n",
              "      <th>Open</th>\n",
              "      <th>High</th>\n",
              "      <th>Low</th>\n",
              "      <th>Close</th>\n",
              "      <th>Volume</th>\n",
              "      <th>Average</th>\n",
              "      <th>Close_shift</th>\n",
              "      <th>Daily_Change</th>\n",
              "    </tr>\n",
              "    <tr>\n",
              "      <th>Date</th>\n",
              "      <th></th>\n",
              "      <th></th>\n",
              "      <th></th>\n",
              "      <th></th>\n",
              "      <th></th>\n",
              "      <th></th>\n",
              "      <th></th>\n",
              "      <th></th>\n",
              "    </tr>\n",
              "  </thead>\n",
              "  <tbody>\n",
              "    <tr>\n",
              "      <th>2020-03-19</th>\n",
              "      <td>15.96</td>\n",
              "      <td>21.26</td>\n",
              "      <td>15.70</td>\n",
              "      <td>20.49</td>\n",
              "      <td>83988721</td>\n",
              "      <td>18.225</td>\n",
              "      <td>14.82</td>\n",
              "      <td>38.259109</td>\n",
              "    </tr>\n",
              "    <tr>\n",
              "      <th>2020-03-18</th>\n",
              "      <td>17.76</td>\n",
              "      <td>17.80</td>\n",
              "      <td>13.71</td>\n",
              "      <td>14.82</td>\n",
              "      <td>78286212</td>\n",
              "      <td>16.290</td>\n",
              "      <td>18.91</td>\n",
              "      <td>-21.628768</td>\n",
              "    </tr>\n",
              "  </tbody>\n",
              "</table>\n",
              "</div>"
            ],
            "text/plain": [
              "             Open   High    Low  ...  Average  Close_shift  Daily_Change\n",
              "Date                             ...                                    \n",
              "2020-03-19  15.96  21.26  15.70  ...   18.225        14.82     38.259109\n",
              "2020-03-18  17.76  17.80  13.71  ...   16.290        18.91    -21.628768\n",
              "\n",
              "[2 rows x 8 columns]"
            ]
          },
          "metadata": {
            "tags": []
          },
          "execution_count": 60
        }
      ]
    },
    {
      "cell_type": "code",
      "metadata": {
        "id": "X7jL16BEUQ5k",
        "outputId": "c4d5c92f-d6a4-4f0c-f0f1-8a197924d710",
        "colab": {
          "base_uri": "https://localhost:8080/",
          "height": 285
        }
      },
      "source": [
        "import seaborn as sns\n",
        "sns.set()\n",
        "\n",
        "df.Daily_Change.hist(bins=100)"
      ],
      "execution_count": 53,
      "outputs": [
        {
          "output_type": "execute_result",
          "data": {
            "text/plain": [
              "<matplotlib.axes._subplots.AxesSubplot at 0x7fbb1d85be80>"
            ]
          },
          "metadata": {
            "tags": []
          },
          "execution_count": 53
        },
        {
          "output_type": "display_data",
          "data": {
            "image/png": "[encoded data removed]",
            "text/plain": [
              "<Figure size 432x288 with 1 Axes>"
            ]
          },
          "metadata": {
            "tags": []
          }
        }
      ]
    },
    {
      "cell_type": "code",
      "metadata": {
        "id": "3v77KjQJUgtd",
        "outputId": "2fee5ad3-e86a-4de4-d17b-987619340c0f",
        "colab": {
          "base_uri": "https://localhost:8080/",
          "height": 302
        }
      },
      "source": [
        "df.Close.plot()"
      ],
      "execution_count": 54,
      "outputs": [
        {
          "output_type": "execute_result",
          "data": {
            "text/plain": [
              "<matplotlib.axes._subplots.AxesSubplot at 0x7fbb1d045240>"
            ]
          },
          "metadata": {
            "tags": []
          },
          "execution_count": 54
        },
        {
          "output_type": "display_data",
          "data": {
            "image/png": "[encoded data removed]",
            "text/plain": [
              "<Figure size 432x288 with 1 Axes>"
            ]
          },
          "metadata": {
            "tags": []
          }
        }
      ]
    }
  ]
}