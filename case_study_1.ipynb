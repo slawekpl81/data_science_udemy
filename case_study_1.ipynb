{
  "nbformat": 4,
  "nbformat_minor": 0,
  "metadata": {
    "colab": {
      "name": "case_study_1.ipynb",
      "provenance": [],
      "collapsed_sections": [],
      "authorship_tag": "ABX9TyO8RYv/AEmmesv2jmHYnoAd",
      "include_colab_link": true
    },
    "kernelspec": {
      "name": "python3",
      "display_name": "Python 3"
    }
  },
  "cells": [
    {
      "cell_type": "markdown",
      "metadata": {
        "id": "view-in-github",
        "colab_type": "text"
      },
      "source": [
        "<a href=\"https://colab.research.google.com/github/slawekpl81/data_science_udemy/blob/master/case_study_1.ipynb\" target=\"_parent\"><img src=\"https://colab.research.google.com/assets/colab-badge.svg\" alt=\"Open In Colab\"/></a>"
      ]
    },
    {
      "cell_type": "code",
      "metadata": {
        "id": "pMK0KIhUFE1L"
      },
      "source": [
        "import pandas as pd\n",
        "import numpy as np"
      ],
      "execution_count": 57,
      "outputs": []
    },
    {
      "cell_type": "code",
      "metadata": {
        "id": "g-P3IVDGIAmz"
      },
      "source": [
        "def fetch_financial_data(company='AMZN'): # Amazon\n",
        "  import pandas_datareader.data as web\n",
        "  return web.DataReader(name=company, data_source='stooq')\n",
        "\n",
        "df = fetch_financial_data()\n",
        "df.describe().T"
      ],
      "execution_count": null,
      "outputs": []
    },
    {
      "cell_type": "code",
      "metadata": {
        "id": "ybwrGM0NIs-1"
      },
      "source": [
        "df.head()"
      ],
      "execution_count": null,
      "outputs": []
    },
    {
      "cell_type": "code",
      "metadata": {
        "id": "lr2tN-vVJFWT"
      },
      "source": [
        "df.loc[:,'Volume']"
      ],
      "execution_count": null,
      "outputs": []
    },
    {
      "cell_type": "code",
      "metadata": {
        "id": "fxKJQ0hkK7Hk",
        "outputId": "b0c7893f-570f-401c-a790-d82622a87f68",
        "colab": {
          "base_uri": "https://localhost:8080/",
          "height": 34
        }
      },
      "source": [
        "df.columns = [col.lower() for col in df.columns]\n",
        "df.columns"
      ],
      "execution_count": null,
      "outputs": [
        {
          "output_type": "execute_result",
          "data": {
            "text/plain": [
              "Index(['open', 'high', 'low', 'close', 'volume'], dtype='object')"
            ]
          },
          "metadata": {
            "tags": []
          },
          "execution_count": 17
        }
      ]
    },
    {
      "cell_type": "code",
      "metadata": {
        "id": "WNLKeWjCMpM-"
      },
      "source": [
        "df10 = df.head(10)\n",
        "df10"
      ],
      "execution_count": null,
      "outputs": []
    },
    {
      "cell_type": "code",
      "metadata": {
        "id": "3NyCuDQ2NEHW"
      },
      "source": [
        "df10[['open', 'close']].T"
      ],
      "execution_count": null,
      "outputs": []
    },
    {
      "cell_type": "code",
      "metadata": {
        "id": "8z0NlRsfNTY5"
      },
      "source": [
        "df10.iloc[:,[0,-2]]"
      ],
      "execution_count": null,
      "outputs": []
    },
    {
      "cell_type": "code",
      "metadata": {
        "id": "kKg2cHOZNjQo"
      },
      "source": [
        "df10.iloc[:,3:5]"
      ],
      "execution_count": null,
      "outputs": []
    },
    {
      "cell_type": "code",
      "metadata": {
        "id": "NLHKGCjZNqNu"
      },
      "source": [
        "df10.iloc[[1,3],[0,-2]]"
      ],
      "execution_count": null,
      "outputs": []
    },
    {
      "cell_type": "code",
      "metadata": {
        "id": "PfqkdypAONOI"
      },
      "source": [
        "df.loc['2019-12-10': '2019-12-01']"
      ],
      "execution_count": null,
      "outputs": []
    },
    {
      "cell_type": "code",
      "metadata": {
        "id": "3bCUbGr3P1Gs"
      },
      "source": [
        "df = fetch_financial_data('MSFT') # microsotf\n",
        "df.describe()"
      ],
      "execution_count": null,
      "outputs": []
    },
    {
      "cell_type": "code",
      "metadata": {
        "id": "7PfCSd1PQb4p"
      },
      "source": [
        "df = fetch_financial_data('UBER') # uber\n",
        "df.info()"
      ],
      "execution_count": null,
      "outputs": []
    },
    {
      "cell_type": "code",
      "metadata": {
        "id": "p-JFqwxvQom0"
      },
      "source": [
        "# nowa kolumna\n",
        "df['Average'] = (df.Open + df.Close)/2\n",
        "df"
      ],
      "execution_count": null,
      "outputs": []
    },
    {
      "cell_type": "code",
      "metadata": {
        "id": "IqFigBjyRAL3"
      },
      "source": [
        "df = df.sort_index()"
      ],
      "execution_count": null,
      "outputs": []
    },
    {
      "cell_type": "code",
      "metadata": {
        "id": "y4coHA05RKLw"
      },
      "source": [
        "df['Close_shift'] = df.Close.shift(1) # shift() przesunięcie kolumny w pione\n",
        "df"
      ],
      "execution_count": null,
      "outputs": []
    },
    {
      "cell_type": "code",
      "metadata": {
        "id": "BgzB2B73TNjr"
      },
      "source": [
        "# dzienna zmiana w procentach\n",
        "df['Daily_Change'] = (df.Close / df.Close_shift -1) * 100\n",
        "# del df['Daily Change']\n",
        "df"
      ],
      "execution_count": null,
      "outputs": []
    },
    {
      "cell_type": "code",
      "metadata": {
        "id": "i4jCIm95T2RA"
      },
      "source": [
        "df.Daily_Change.max()"
      ],
      "execution_count": null,
      "outputs": []
    },
    {
      "cell_type": "code",
      "metadata": {
        "id": "DzJMZJTHVfEH"
      },
      "source": [
        "df.Daily_Change.idxmax()"
      ],
      "execution_count": null,
      "outputs": []
    },
    {
      "cell_type": "code",
      "metadata": {
        "id": "w5vqjjKAVqV_"
      },
      "source": [
        "df.loc[[df.Daily_Change.idxmax(), df.Daily_Change.idxmin()]]"
      ],
      "execution_count": null,
      "outputs": []
    },
    {
      "cell_type": "code",
      "metadata": {
        "id": "X7jL16BEUQ5k"
      },
      "source": [
        "import seaborn as sns\n",
        "sns.set()\n",
        "\n",
        "df.Daily_Change.hist(bins=100)"
      ],
      "execution_count": null,
      "outputs": []
    },
    {
      "cell_type": "code",
      "metadata": {
        "id": "3v77KjQJUgtd"
      },
      "source": [
        "df.Close.plot()"
      ],
      "execution_count": null,
      "outputs": []
    },
    {
      "cell_type": "code",
      "metadata": {
        "id": "HnBQftlyG4W0"
      },
      "source": [
        "df[df.Daily_Change == df.Daily_Change.max()]"
      ],
      "execution_count": null,
      "outputs": []
    },
    {
      "cell_type": "code",
      "metadata": {
        "id": "ksylEA2OJRZC",
        "outputId": "040a7523-7f36-4ae0-a7fd-789fe0dfa25d",
        "colab": {
          "base_uri": "https://localhost:8080/",
          "height": 34
        }
      },
      "source": [
        "df.Daily_Change[df.Daily_Change > 0].mean() # srednia z dodatnich wyników"
      ],
      "execution_count": null,
      "outputs": [
        {
          "output_type": "execute_result",
          "data": {
            "text/plain": [
              "2.7015285311054664"
            ]
          },
          "metadata": {
            "tags": []
          },
          "execution_count": 15
        }
      ]
    },
    {
      "cell_type": "code",
      "metadata": {
        "id": "LS2oLjLjJ5qU"
      },
      "source": [
        "df_positive = df[df.Daily_Change > 0]\n",
        "df_negative = df[df.Daily_Change < 0]"
      ],
      "execution_count": null,
      "outputs": []
    },
    {
      "cell_type": "code",
      "metadata": {
        "id": "cOPUH7ZtLOyR",
        "outputId": "24d39c77-c783-4f24-cbbe-96859b5b2f31",
        "colab": {
          "base_uri": "https://localhost:8080/",
          "height": 34
        }
      },
      "source": [
        "df_positive.Daily_Change.mean()"
      ],
      "execution_count": null,
      "outputs": [
        {
          "output_type": "execute_result",
          "data": {
            "text/plain": [
              "2.7015285311054664"
            ]
          },
          "metadata": {
            "tags": []
          },
          "execution_count": 17
        }
      ]
    },
    {
      "cell_type": "code",
      "metadata": {
        "id": "e0fDgv2TLjUI"
      },
      "source": [
        "df[df.Close == df.High]"
      ],
      "execution_count": null,
      "outputs": []
    },
    {
      "cell_type": "code",
      "metadata": {
        "id": "88svDj4DMYU-"
      },
      "source": [
        "df[df.index > '2020/09/02']"
      ],
      "execution_count": null,
      "outputs": []
    },
    {
      "cell_type": "code",
      "metadata": {
        "id": "vXVzYnBiNM10"
      },
      "source": [
        "df[(df.index > '2020/05/01')&(df.index < '2020/08/01')]"
      ],
      "execution_count": null,
      "outputs": []
    },
    {
      "cell_type": "code",
      "metadata": {
        "id": "b1ztKNgOOBIs"
      },
      "source": [
        "df[(df.index == '2020/05/01') | (df.index == '2020/02/03')]"
      ],
      "execution_count": null,
      "outputs": []
    },
    {
      "cell_type": "code",
      "metadata": {
        "id": "Uwb8exN1OqKJ"
      },
      "source": [
        "df[df.index.month == 5]"
      ],
      "execution_count": null,
      "outputs": []
    },
    {
      "cell_type": "code",
      "metadata": {
        "id": "bxY_7E8FOwFq"
      },
      "source": [
        "# ZAPIS - ODCZYT"
      ],
      "execution_count": null,
      "outputs": []
    },
    {
      "cell_type": "code",
      "metadata": {
        "id": "YC9vksj6PU7l"
      },
      "source": [
        "df = fetch_financial_data('FB')\n",
        "df.Close.plot()"
      ],
      "execution_count": null,
      "outputs": []
    },
    {
      "cell_type": "code",
      "metadata": {
        "id": "G6RVkWv9QeLX"
      },
      "source": [
        "df.to_csv('faceb.csv')"
      ],
      "execution_count": null,
      "outputs": []
    },
    {
      "cell_type": "code",
      "metadata": {
        "id": "N6XmphUyQ_wx"
      },
      "source": [
        "df_now = df[(df.index.year == 2019)&(df.index.month == 11)]\n",
        "df_now.to_csv('fb_nov.csv')"
      ],
      "execution_count": null,
      "outputs": []
    },
    {
      "cell_type": "code",
      "metadata": {
        "id": "vJiZrJ2MR73x"
      },
      "source": [
        "new_df = pd.read_csv('fb_nov.csv')\n",
        "new_df.to_excel('fb_nov.xlsx')"
      ],
      "execution_count": null,
      "outputs": []
    },
    {
      "cell_type": "code",
      "metadata": {
        "id": "uzkfibp8SzIi"
      },
      "source": [
        "new_df = pd.read_excel('fb_nov.xlsx', index_col=0)\n",
        "new_df"
      ],
      "execution_count": null,
      "outputs": []
    },
    {
      "cell_type": "code",
      "metadata": {
        "id": "_fG0YWLtTWKC"
      },
      "source": [
        "# LONDON BIKE"
      ],
      "execution_count": null,
      "outputs": []
    },
    {
      "cell_type": "code",
      "metadata": {
        "id": "l_pk_ouST1HY"
      },
      "source": [
        "bike = pd.read_csv('london_bike.csv')\n",
        "bike = bike.set_index('timestamp')\n",
        "bike.head()"
      ],
      "execution_count": null,
      "outputs": []
    },
    {
      "cell_type": "code",
      "metadata": {
        "id": "L_JV-G7WUbxA"
      },
      "source": [
        "bike.info()"
      ],
      "execution_count": null,
      "outputs": []
    }
  ]
}